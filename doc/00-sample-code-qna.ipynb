{
 "cells": [
  {
   "attachments": {},
   "cell_type": "markdown",
   "metadata": {},
   "source": [
    "#### Watch the Getting Started Quick Start [Video](https://aka.ms/SK-Getting-Started-Notebook)\n",
    "\n",
    "> [!IMPORTANT]\n",
    "> You will need an [.Net 7 SDK](https://dotnet.microsoft.com/en-us/download) and [Polyglot](https://marketplace.visualstudio.com/items?itemName=ms-dotnettools.dotnet-interactive-vscode) to get started with this notebook using .Net Interactive"
   ]
  },
  {
   "attachments": {},
   "cell_type": "markdown",
   "metadata": {},
   "source": [
    "**Step 1**: Configure your AI service credentials\n",
    "\n",
    "Use [this notebook](0-AI-settings.ipynb) first, to choose whether to run these notebooks with OpenAI or Azure OpenAI,\n",
    "and to save your credentials in the configuration file."
   ]
  },
  {
   "cell_type": "code",
   "execution_count": null,
   "metadata": {
    "dotnet_interactive": {
     "language": "csharp"
    },
    "polyglot_notebook": {
     "kernelName": "csharp"
    }
   },
   "outputs": [],
   "source": [
    "// Load some helper functions, e.g. to load values from settings.json\n",
    "#!import config/Settings.cs "
   ]
  },
  {
   "attachments": {},
   "cell_type": "markdown",
   "metadata": {},
   "source": [
    "**Step 2**: Import Semantic Kernel SDK from NuGet"
   ]
  },
  {
   "cell_type": "code",
   "execution_count": null,
   "metadata": {
    "dotnet_interactive": {
     "language": "csharp"
    },
    "polyglot_notebook": {
     "kernelName": "csharp"
    }
   },
   "outputs": [],
   "source": [
    "// Import Semantic Kernel\n",
    "#r \"nuget: Microsoft.SemanticKernel, 0.17.230626.1-preview\""
   ]
  },
  {
   "attachments": {},
   "cell_type": "markdown",
   "metadata": {},
   "source": [
    "**Step 3**: Instantiate the Kernel"
   ]
  },
  {
   "cell_type": "code",
   "execution_count": null,
   "metadata": {
    "dotnet_interactive": {
     "language": "csharp"
    },
    "polyglot_notebook": {
     "kernelName": "csharp"
    }
   },
   "outputs": [],
   "source": [
    "using Microsoft.SemanticKernel;\n",
    "using Microsoft.SemanticKernel.Memory;\n",
    "\n",
    "//Create Kernel builder\n",
    "var builder = new KernelBuilder();"
   ]
  },
  {
   "cell_type": "code",
   "execution_count": null,
   "metadata": {
    "dotnet_interactive": {
     "language": "csharp"
    },
    "polyglot_notebook": {
     "kernelName": "csharp"
    }
   },
   "outputs": [],
   "source": [
    "// Configure AI service credentials used by the kernel\n",
    "var (useAzureOpenAI, model, azureEndpoint, apiKey, orgId) = Settings.LoadFromFile();\n",
    "\n",
    "if (useAzureOpenAI)\n",
    "{\n",
    "\tbuilder.WithAzureTextEmbeddingGenerationService(\"text-embedding-ada-002\", azureEndpoint, apiKey);\n",
    "\tif(model.Contains(\"gpt\"))\n",
    "\t{\n",
    "\t\tbuilder.WithAzureChatCompletionService(model, azureEndpoint, apiKey);\n",
    "\t}\n",
    "\telse\n",
    "\t{\n",
    "\t\tbuilder.WithAzureTextCompletionService(model, azureEndpoint, apiKey);\n",
    "\t}\n",
    "}\n",
    "else\n",
    "{\n",
    "\tbuilder.WithOpenAITextEmbeddingGenerationService(\"text-embedding-ada-002\", apiKey);\n",
    "\tbuilder.WithOpenAITextCompletionService(model, apiKey, orgId);\n",
    "}\n",
    "\n",
    "builder.WithMemoryStorage(new VolatileMemoryStore());\n",
    "\n",
    "var kernel = builder.Build();\n"
   ]
  },
  {
   "attachments": {},
   "cell_type": "markdown",
   "metadata": {},
   "source": [
    "**Step 4**: Load sample code as context"
   ]
  },
  {
   "cell_type": "code",
   "execution_count": null,
   "metadata": {
    "dotnet_interactive": {
     "language": "csharp"
    },
    "polyglot_notebook": {
     "kernelName": "csharp"
    }
   },
   "outputs": [],
   "source": [
    "using System.IO;\n",
    "using System;\n",
    "using System.Threading.Tasks;\n",
    "using Microsoft.SemanticKernel.Text;\n",
    "\n",
    "const string MemoryCollectionName = \"SampleCode\";\n",
    "const int MaxFileSize = 2048;\n",
    "const int MaxTokens = 1024;\n",
    "\n",
    "async Task SummarizeCodeFileAsync(string filePath)\n",
    "{\n",
    "\tstring code = File.ReadAllText(filePath);\n",
    "\n",
    "\tif (code != null && code.Length > 0)\n",
    "\t{\n",
    "\t\tvar fileInfo = new FileInfo(filePath);\n",
    "\t\tvar fileName = fileInfo.Name;\n",
    "\t\tif (code.Length > MaxFileSize)\n",
    "\t\t{\n",
    "\t\t\tvar extension = fileInfo.Extension;\n",
    "\t\t\tList<string> lines;\n",
    "\t\t\tList<string> paragraphs;\n",
    "\n",
    "\t\t\tswitch (extension)\n",
    "\t\t\t{\n",
    "\t\t\t\tcase \".md\":\n",
    "\t\t\t\t\t{\n",
    "\t\t\t\t\t\tlines = TextChunker.SplitMarkDownLines(code, MaxTokens);\n",
    "\t\t\t\t\t\tparagraphs = TextChunker.SplitMarkdownParagraphs(lines, MaxTokens);\n",
    "\n",
    "\t\t\t\t\t\tbreak;\n",
    "\t\t\t\t\t}\n",
    "\t\t\t\tdefault:\n",
    "\t\t\t\t\t{\n",
    "\t\t\t\t\t\tlines = TextChunker.SplitPlainTextLines(code, MaxTokens);\n",
    "\t\t\t\t\t\tparagraphs = TextChunker.SplitPlainTextParagraphs(lines, MaxTokens);\n",
    "\n",
    "\t\t\t\t\t\tbreak;\n",
    "\t\t\t\t\t}\n",
    "\t\t\t}\n",
    "\n",
    "\t\t\tfor (int i = 0; i < paragraphs.Count; i++)\n",
    "\t\t\t{\n",
    "\t\t\t\tawait kernel.Memory.SaveInformationAsync(\n",
    "\t\t\t\t\tMemoryCollectionName,\n",
    "\t\t\t\t\ttext: $\"{code}\",\n",
    "\t\t\t\t\tid: fileName);\n",
    "\t\t\t}\n",
    "\t\t}\n",
    "\t\telse\n",
    "\t\t{\n",
    "\t\t\tawait kernel.Memory.SaveInformationAsync(\n",
    "\t\t\t\tMemoryCollectionName,\n",
    "\t\t\t\ttext: $\"{code}\",\n",
    "\t\t\t\tid: fileName);\n",
    "\t\t}\n",
    "\t}\n",
    "}\n",
    "\n",
    "async Task SummarizeCodeDirectoryAsync(string directoryPath, string searchPattern)\n",
    "{\n",
    "\tstring[] filePaths = Directory.GetFiles(directoryPath, searchPattern, SearchOption.AllDirectories);\n",
    "\n",
    "\tif (filePaths != null && filePaths.Length > 0)\n",
    "\t{\n",
    "\t\tConsole.WriteLine(\"Found {0} files to summarize\", filePaths.Length);\n",
    "\n",
    "\t\tforeach (string filePath in filePaths)\n",
    "\t\t{\n",
    "\n",
    "\t\t\tawait SummarizeCodeFileAsync(filePath);\n",
    "\t\t}\n",
    "\t}\n",
    "}\n",
    "\n",
    "await SummarizeCodeDirectoryAsync(\"../sample/Comet.Sample/Views\", \"*.cs\");"
   ]
  },
  {
   "attachments": {},
   "cell_type": "markdown",
   "metadata": {},
   "source": [
    "**Step 5**: Answer the question based on the context.\n"
   ]
  },
  {
   "cell_type": "code",
   "execution_count": null,
   "metadata": {
    "dotnet_interactive": {
     "language": "csharp"
    },
    "polyglot_notebook": {
     "kernelName": "csharp"
    }
   },
   "outputs": [],
   "source": [
    "async Task AnswerTheQuestion(string question)\n",
    "{\n",
    "    string skPrompt = @\"\n",
    "Read this demo code\n",
    "===========\n",
    " {{$demo}}. \n",
    "===========\n",
    "Then answer this question with code only, all the code should use from the demo.\n",
    "{{$input}}\n",
    "\";\n",
    "\n",
    "    var codeFunc = kernel.CreateSemanticFunction(skPrompt, \n",
    "                                                maxTokens: 200, \n",
    "                                                temperature: 0, \n",
    "                                                topP: 0.5);\n",
    "    var response = kernel.Memory.SearchAsync(MemoryCollectionName, question);\n",
    "    await foreach (var item in response)\n",
    "    {\n",
    "        var context = kernel.CreateNewContext();\n",
    "        context[\"demo\"] = item.Metadata.Text;\n",
    "        context[\"input\"] = question;\n",
    "        var answer = await codeFunc.InvokeAsync(context);\n",
    "        Console.WriteLine(answer + \" : \" + item.Relevance);\n",
    "    }\n",
    "}"
   ]
  },
  {
   "attachments": {},
   "cell_type": "markdown",
   "metadata": {},
   "source": [
    "**Ask the question**"
   ]
  },
  {
   "cell_type": "code",
   "execution_count": null,
   "metadata": {
    "dotnet_interactive": {
     "language": "csharp"
    },
    "polyglot_notebook": {
     "kernelName": "csharp"
    }
   },
   "outputs": [],
   "source": [
    "await AnswerTheQuestion(\"How to create a button\");"
   ]
  }
 ],
 "metadata": {
  "kernelspec": {
   "display_name": ".NET (C#)",
   "language": "C#",
   "name": ".net-csharp"
  },
  "language_info": {
   "name": "polyglot-notebook"
  },
  "polyglot_notebook": {
   "kernelInfo": {
    "defaultKernelName": "csharp",
    "items": [
     {
      "aliases": [],
      "name": "csharp"
     }
    ]
   }
  }
 },
 "nbformat": 4,
 "nbformat_minor": 2
}
